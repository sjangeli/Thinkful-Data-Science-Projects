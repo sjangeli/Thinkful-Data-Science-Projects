{
 "cells": [
  {
   "cell_type": "markdown",
   "metadata": {},
   "source": [
    "3. House prices model\n",
    "In this exercise, you'll interpret your house prices model. To complete this assignment, submit a link to a Jupyter notebook containing your solutions to the following tasks:\n",
    "\n",
    "Load the houseprices data from Thinkful's database.\n",
    "Run your house prices model again and interpret the results. Which features are statistically significant, and which are not?\n",
    "Now, exclude the insignificant features from your model. Did anything change?\n",
    "Interpret the statistically significant coefficients by quantifying their relations with the house prices. Which features have a more prominent effect on house prices?\n",
    "Do the results sound reasonable to you? If not, try to explain the potential reasons."
   ]
  },
  {
   "cell_type": "code",
   "execution_count": 2,
   "metadata": {},
   "outputs": [],
   "source": [
    "import pandas as pd\n",
    "import numpy as np\n",
    "import matplotlib.pyplot as plt\n",
    "import statsmodels.api as sm\n",
    "from sklearn import linear_model\n",
    "from sqlalchemy import create_engine\n",
    "import warnings\n",
    "\n",
    "warnings.filterwarnings('ignore')\n",
    "\n",
    "postgres_user = 'dsbc_student'\n",
    "postgres_pw = '7*.8G9QH21'\n",
    "postgres_host = '142.93.121.174'\n",
    "postgres_port = '5432'\n",
    "postgres_db = 'houseprices'\n",
    "table_name = 'houseprices'\n",
    "\n",
    "engine = create_engine('postgresql://{}:{}@{}:{}/{}'.format(\n",
    "    postgres_user, postgres_pw, postgres_host, postgres_port, postgres_db))\n",
    "\n",
    "houses_df = pd.read_sql_query('select * from houseprices',con=engine)\n",
    "\n",
    "engine.dispose()"
   ]
  },
  {
   "cell_type": "code",
   "execution_count": 3,
   "metadata": {},
   "outputs": [
    {
     "name": "stdout",
     "output_type": "stream",
     "text": [
      "                            OLS Regression Results                            \n",
      "==============================================================================\n",
      "Dep. Variable:              saleprice   R-squared:                       0.739\n",
      "Model:                            OLS   Adj. R-squared:                  0.739\n",
      "Method:                 Least Squares   F-statistic:                     1375.\n",
      "Date:                Fri, 24 Jan 2020   Prob (F-statistic):               0.00\n",
      "Time:                        14:58:10   Log-Likelihood:                -17563.\n",
      "No. Observations:                1460   AIC:                         3.513e+04\n",
      "Df Residuals:                    1456   BIC:                         3.516e+04\n",
      "Df Model:                           3                                         \n",
      "Covariance Type:            nonrobust                                         \n",
      "===============================================================================\n",
      "                  coef    std err          t      P>|t|      [0.025      0.975]\n",
      "-------------------------------------------------------------------------------\n",
      "const       -9.883e+04   4842.897    -20.408      0.000   -1.08e+05   -8.93e+04\n",
      "overallqual   2.71e+04   1072.182     25.280      0.000     2.5e+04    2.92e+04\n",
      "grlivarea      50.6742      2.552     19.859      0.000      45.669      55.680\n",
      "garagecars    2.13e+04   1807.065     11.786      0.000    1.78e+04    2.48e+04\n",
      "==============================================================================\n",
      "Omnibus:                      419.972   Durbin-Watson:                   1.988\n",
      "Prob(Omnibus):                  0.000   Jarque-Bera (JB):             9575.801\n",
      "Skew:                           0.788   Prob(JB):                         0.00\n",
      "Kurtosis:                      15.447   Cond. No.                     7.40e+03\n",
      "==============================================================================\n",
      "\n",
      "Warnings:\n",
      "[1] Standard Errors assume that the covariance matrix of the errors is correctly specified.\n",
      "[2] The condition number is large, 7.4e+03. This might indicate that there are\n",
      "strong multicollinearity or other numerical problems.\n"
     ]
    }
   ],
   "source": [
    "Y = houses_df['saleprice']\n",
    "X = houses_df[['overallqual','grlivarea', 'garagecars']]\n",
    "\n",
    "X = sm.add_constant(X)\n",
    "\n",
    "# We fit an OLS model using statsmodels\n",
    "results = sm.OLS(Y, X).fit()\n",
    "\n",
    "# We print the summary results.\n",
    "print(results.summary())"
   ]
  },
  {
   "cell_type": "markdown",
   "metadata": {},
   "source": [
    "In my previous model we see that there is a -\\\\$9000 constant, and that for every point increase in overall quality there is a \\\\$2,700 increase in sale price. Likewise for every square foot of ground floor living area there is a \\\\$50 increase. And lastly there is a \\\\$2,130 increase for each additional space for a car in the garage. All of these are significant contributors to the sale price. \n",
    "\n",
    "Each of these features is significant and makes sense. I'm going to run another model that includes more features below to see what else I can suss out. "
   ]
  },
  {
   "cell_type": "code",
   "execution_count": 5,
   "metadata": {},
   "outputs": [
    {
     "name": "stdout",
     "output_type": "stream",
     "text": [
      "                            OLS Regression Results                            \n",
      "==============================================================================\n",
      "Dep. Variable:              saleprice   R-squared:                       0.750\n",
      "Model:                            OLS   Adj. R-squared:                  0.749\n",
      "Method:                 Least Squares   F-statistic:                     724.8\n",
      "Date:                Fri, 24 Jan 2020   Prob (F-statistic):               0.00\n",
      "Time:                        15:59:30   Log-Likelihood:                -17533.\n",
      "No. Observations:                1460   AIC:                         3.508e+04\n",
      "Df Residuals:                    1453   BIC:                         3.512e+04\n",
      "Df Model:                           6                                         \n",
      "Covariance Type:            nonrobust                                         \n",
      "==================================================================================\n",
      "                     coef    std err          t      P>|t|      [0.025      0.975]\n",
      "----------------------------------------------------------------------------------\n",
      "const          -1.331e+05   1.72e+04     -7.755      0.000   -1.67e+05   -9.94e+04\n",
      "overallqual     2.773e+04   1057.338     26.230      0.000    2.57e+04    2.98e+04\n",
      "grlivarea         45.7330      2.582     17.710      0.000      40.667      50.799\n",
      "garagecars      2.051e+04   1780.388     11.517      0.000     1.7e+04     2.4e+04\n",
      "type_utilities -4.108e+04   3.99e+04     -1.031      0.303   -1.19e+05    3.71e+04\n",
      "type_street     3.043e+04   1.67e+04      1.817      0.069   -2413.947    6.33e+04\n",
      "lotarea            0.8617      0.111      7.739      0.000       0.643       1.080\n",
      "==============================================================================\n",
      "Omnibus:                      419.783   Durbin-Watson:                   1.982\n",
      "Prob(Omnibus):                  0.000   Jarque-Bera (JB):            14214.827\n",
      "Skew:                           0.658   Prob(JB):                         0.00\n",
      "Kurtosis:                      18.229   Cond. No.                     5.56e+05\n",
      "==============================================================================\n",
      "\n",
      "Warnings:\n",
      "[1] Standard Errors assume that the covariance matrix of the errors is correctly specified.\n",
      "[2] The condition number is large, 5.56e+05. This might indicate that there are\n",
      "strong multicollinearity or other numerical problems.\n"
     ]
    }
   ],
   "source": [
    "houses_df[\"type_utilities\"] = pd.get_dummies(houses_df.utilities, drop_first=True)\n",
    "houses_df[\"type_street\"] = pd.get_dummies(houses_df.street, drop_first=True)\n",
    "\n",
    "Y = houses_df['saleprice']\n",
    "X = houses_df[['overallqual','grlivarea', 'garagecars', 'type_utilities', 'type_street', 'lotarea']]\n",
    "\n",
    "X = sm.add_constant(X)\n",
    "\n",
    "# We fit an OLS model using statsmodels\n",
    "results = sm.OLS(Y, X).fit()\n",
    "\n",
    "# We print the summary results.\n",
    "print(results.summary())"
   ]
  },
  {
   "cell_type": "markdown",
   "metadata": {},
   "source": [
    "Ok, so in this model we see that type of utilities has a large p-value, and type street is also on the cusp of not being significant. Let's see what happens if I drop those. "
   ]
  },
  {
   "cell_type": "code",
   "execution_count": 6,
   "metadata": {},
   "outputs": [
    {
     "name": "stdout",
     "output_type": "stream",
     "text": [
      "                            OLS Regression Results                            \n",
      "==============================================================================\n",
      "Dep. Variable:              saleprice   R-squared:                       0.749\n",
      "Model:                            OLS   Adj. R-squared:                  0.748\n",
      "Method:                 Least Squares   F-statistic:                     1084.\n",
      "Date:                Fri, 24 Jan 2020   Prob (F-statistic):               0.00\n",
      "Time:                        16:00:59   Log-Likelihood:                -17536.\n",
      "No. Observations:                1460   AIC:                         3.508e+04\n",
      "Df Residuals:                    1455   BIC:                         3.511e+04\n",
      "Df Model:                           4                                         \n",
      "Covariance Type:            nonrobust                                         \n",
      "===============================================================================\n",
      "                  coef    std err          t      P>|t|      [0.025      0.975]\n",
      "-------------------------------------------------------------------------------\n",
      "const       -1.032e+05   4788.762    -21.549      0.000   -1.13e+05   -9.38e+04\n",
      "overallqual  2.783e+04   1056.823     26.336      0.000    2.58e+04    2.99e+04\n",
      "grlivarea      46.1182      2.577     17.896      0.000      41.063      51.173\n",
      "garagecars    2.03e+04   1778.697     11.410      0.000    1.68e+04    2.38e+04\n",
      "lotarea         0.8178      0.109      7.507      0.000       0.604       1.031\n",
      "==============================================================================\n",
      "Omnibus:                      416.643   Durbin-Watson:                   1.976\n",
      "Prob(Omnibus):                  0.000   Jarque-Bera (JB):            13906.437\n",
      "Skew:                           0.652   Prob(JB):                         0.00\n",
      "Kurtosis:                      18.063   Cond. No.                     6.76e+04\n",
      "==============================================================================\n",
      "\n",
      "Warnings:\n",
      "[1] Standard Errors assume that the covariance matrix of the errors is correctly specified.\n",
      "[2] The condition number is large, 6.76e+04. This might indicate that there are\n",
      "strong multicollinearity or other numerical problems.\n"
     ]
    }
   ],
   "source": [
    "Y = houses_df['saleprice']\n",
    "X = houses_df[['overallqual','grlivarea', 'garagecars', 'lotarea']]\n",
    "\n",
    "X = sm.add_constant(X)\n",
    "\n",
    "# We fit an OLS model using statsmodels\n",
    "results = sm.OLS(Y, X).fit()\n",
    "\n",
    "# We print the summary results.\n",
    "print(results.summary())"
   ]
  },
  {
   "cell_type": "markdown",
   "metadata": {
    "slideshow": {
     "slide_type": "slide"
    }
   },
   "source": [
    "In this model we see that Lot Area contributes \\\\$0.81 per square foot of extra lot. But the constant increased, which tells me that there's still a lot of unexplained behavior going on. "
   ]
  },
  {
   "cell_type": "code",
   "execution_count": null,
   "metadata": {},
   "outputs": [],
   "source": []
  }
 ],
 "metadata": {
  "kernelspec": {
   "display_name": "Python 3",
   "language": "python",
   "name": "python3"
  },
  "language_info": {
   "codemirror_mode": {
    "name": "ipython",
    "version": 3
   },
   "file_extension": ".py",
   "mimetype": "text/x-python",
   "name": "python",
   "nbconvert_exporter": "python",
   "pygments_lexer": "ipython3",
   "version": "3.7.4"
  }
 },
 "nbformat": 4,
 "nbformat_minor": 2
}
