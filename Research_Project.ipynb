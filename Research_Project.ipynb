{
  "nbformat": 4,
  "nbformat_minor": 0,
  "metadata": {
    "colab": {
      "name": "Research Project.ipynb",
      "provenance": [],
      "include_colab_link": true
    },
    "kernelspec": {
      "name": "python3",
      "display_name": "Python 3"
    }
  },
  "cells": [
    {
      "cell_type": "markdown",
      "metadata": {
        "id": "view-in-github",
        "colab_type": "text"
      },
      "source": [
        "<a href=\"https://colab.research.google.com/github/sjangeli/Thinkful-Data-Science-Projects/blob/master/Research_Project.ipynb\" target=\"_parent\"><img src=\"https://colab.research.google.com/assets/colab-badge.svg\" alt=\"Open In Colab\"/></a>"
      ]
    },
    {
      "cell_type": "markdown",
      "metadata": {
        "id": "_8YvevFxOsFs",
        "colab_type": "text"
      },
      "source": [
        "### *Nobody likes to hear it, because it's dull, but the reason you win or lose is darn near always the same - pitching.*\n",
        "\n",
        "~ Earl Weaver\n",
        "\n",
        "### *Guessing what the pitcher is going to throw is 80% of being a successful hitter. The other 20% is just execution.*\n",
        "\n",
        "~ Hank Aaron\n",
        "\n",
        "# Pitching Trends (2015 - 2018)\n",
        "\n",
        "In this analysis I analyze whether or not there are any staticially significant differences from year to year in major attributes from three pitch types: four seam fastball, slider, and curveball. \n",
        "\n",
        "This analysis is intended to provide insight to pitchers, batters, and front office management. Pitchers will want to see what the trends are in pitching overall so that they can either keep up or make a strategic decision to deviate from the trend since batters will try to adapt to the current trend. Managers will want to know what the trends are so that they can make better decisions on what batters to use to set their lineups and how to train their teams to address the current trends. General managers will want to use this analysis to better inform what pitchers and batters they should be looking at picking up and/or letting go. Lastly, batters will want to stay current on pitching trends so that they can adapt their training plans to focus on current pitching trends. "
      ]
    },
    {
      "cell_type": "code",
      "metadata": {
        "id": "PQfrS2T1hcmI",
        "colab_type": "code",
        "colab": {}
      },
      "source": [
        "# Loading in the data...\n",
        "\n",
        "# Code to read csv file into Colaboratory:\n",
        "!pip install -U -q PyDrive\n",
        "from pydrive.auth import GoogleAuth\n",
        "from pydrive.drive import GoogleDrive\n",
        "from google.colab import auth\n",
        "from oauth2client.client import GoogleCredentials\n",
        "\n",
        "# My imports\n",
        "import numpy as np\n",
        "import pandas as pd\n",
        "from matplotlib import pyplot as plt\n",
        "import seaborn as sns\n",
        "from scipy import stats\n",
        "from statsmodels.stats.multicomp import pairwise_tukeyhsd\n",
        "\n",
        "# Authenticate and create the PyDrive client.\n",
        "auth.authenticate_user()\n",
        "gauth = GoogleAuth()\n",
        "gauth.credentials = GoogleCredentials.get_application_default()\n",
        "drive = GoogleDrive(gauth)\n",
        "\n",
        "# Create a DataFrame with the pitch information.\n",
        "pitches = drive.CreateFile({'id':'12S9Mc5HCehr6SXG_ZLhK3A4P5qooksot'}) \n",
        "pitches.GetContentFile('pitches.csv')  \n",
        "pitches = pd.read_csv('pitches.csv')"
      ],
      "execution_count": 0,
      "outputs": []
    },
    {
      "cell_type": "code",
      "metadata": {
        "id": "R_25GYzQ8WRI",
        "colab_type": "code",
        "outputId": "d372e7ac-770a-439b-ac94-0ab226864fa5",
        "colab": {
          "base_uri": "https://localhost:8080/",
          "height": 204
        }
      },
      "source": [
        "# Narrow down the selection of columns to those containing the information we want to analyze.\n",
        "\n",
        "pitches = pitches[['start_speed', 'end_speed', 'spin_rate', 'break_length', 'type', 'pitch_type', 'ab_id']]\n",
        "\n",
        "# How I handled null values: There are about 14,000 NaN values, mainly in the start and end speed columns. \n",
        "# There are over 2,867,153 pitches so I feel comfortable dropping them.\n",
        "\n",
        "pitches = pitches.dropna()\n",
        "pitches.head()\n",
        "\n",
        "# Strip the year information from the ab_id and create a year column so that I can disaggregate the data according to year.\n",
        "\n",
        "year = []\n",
        "for entry in pitches.ab_id:\n",
        "  current = str(entry)\n",
        "  current = current[0:4]\n",
        "  year.append(current)\n",
        "\n",
        "pitches['year'] = year\n",
        "\n",
        "pitches.head()"
      ],
      "execution_count": 2,
      "outputs": [
        {
          "output_type": "execute_result",
          "data": {
            "text/html": [
              "<div>\n",
              "<style scoped>\n",
              "    .dataframe tbody tr th:only-of-type {\n",
              "        vertical-align: middle;\n",
              "    }\n",
              "\n",
              "    .dataframe tbody tr th {\n",
              "        vertical-align: top;\n",
              "    }\n",
              "\n",
              "    .dataframe thead th {\n",
              "        text-align: right;\n",
              "    }\n",
              "</style>\n",
              "<table border=\"1\" class=\"dataframe\">\n",
              "  <thead>\n",
              "    <tr style=\"text-align: right;\">\n",
              "      <th></th>\n",
              "      <th>start_speed</th>\n",
              "      <th>end_speed</th>\n",
              "      <th>spin_rate</th>\n",
              "      <th>break_length</th>\n",
              "      <th>type</th>\n",
              "      <th>pitch_type</th>\n",
              "      <th>ab_id</th>\n",
              "      <th>year</th>\n",
              "    </tr>\n",
              "  </thead>\n",
              "  <tbody>\n",
              "    <tr>\n",
              "      <th>0</th>\n",
              "      <td>92.9</td>\n",
              "      <td>84.1</td>\n",
              "      <td>2305.052</td>\n",
              "      <td>3.2</td>\n",
              "      <td>S</td>\n",
              "      <td>FF</td>\n",
              "      <td>2.015000e+09</td>\n",
              "      <td>2015</td>\n",
              "    </tr>\n",
              "    <tr>\n",
              "      <th>1</th>\n",
              "      <td>92.8</td>\n",
              "      <td>84.1</td>\n",
              "      <td>2689.935</td>\n",
              "      <td>3.4</td>\n",
              "      <td>S</td>\n",
              "      <td>FF</td>\n",
              "      <td>2.015000e+09</td>\n",
              "      <td>2015</td>\n",
              "    </tr>\n",
              "    <tr>\n",
              "      <th>2</th>\n",
              "      <td>94.1</td>\n",
              "      <td>85.2</td>\n",
              "      <td>2647.972</td>\n",
              "      <td>3.7</td>\n",
              "      <td>S</td>\n",
              "      <td>FF</td>\n",
              "      <td>2.015000e+09</td>\n",
              "      <td>2015</td>\n",
              "    </tr>\n",
              "    <tr>\n",
              "      <th>3</th>\n",
              "      <td>91.0</td>\n",
              "      <td>84.0</td>\n",
              "      <td>1289.590</td>\n",
              "      <td>5.0</td>\n",
              "      <td>B</td>\n",
              "      <td>FF</td>\n",
              "      <td>2.015000e+09</td>\n",
              "      <td>2015</td>\n",
              "    </tr>\n",
              "    <tr>\n",
              "      <th>4</th>\n",
              "      <td>75.4</td>\n",
              "      <td>69.6</td>\n",
              "      <td>1374.569</td>\n",
              "      <td>12.0</td>\n",
              "      <td>B</td>\n",
              "      <td>CU</td>\n",
              "      <td>2.015000e+09</td>\n",
              "      <td>2015</td>\n",
              "    </tr>\n",
              "  </tbody>\n",
              "</table>\n",
              "</div>"
            ],
            "text/plain": [
              "   start_speed  end_speed  spin_rate  ...  pitch_type         ab_id  year\n",
              "0         92.9       84.1   2305.052  ...          FF  2.015000e+09  2015\n",
              "1         92.8       84.1   2689.935  ...          FF  2.015000e+09  2015\n",
              "2         94.1       85.2   2647.972  ...          FF  2.015000e+09  2015\n",
              "3         91.0       84.0   1289.590  ...          FF  2.015000e+09  2015\n",
              "4         75.4       69.6   1374.569  ...          CU  2.015000e+09  2015\n",
              "\n",
              "[5 rows x 8 columns]"
            ]
          },
          "metadata": {
            "tags": []
          },
          "execution_count": 2
        }
      ]
    },
    {
      "cell_type": "code",
      "metadata": {
        "id": "TkcYPnIdqWVO",
        "colab_type": "code",
        "colab": {}
      },
      "source": [
        "# Break the pitches into those thrown each year.\n",
        "\n",
        "pitches_15 = pitches[pitches.year == '2015']\n",
        "pitches_16 = pitches[pitches.year == '2016']\n",
        "pitches_17 = pitches[pitches.year == '2017']\n",
        "pitches_18 = pitches[pitches.year == '2018']\n",
        "\n",
        "# Break the pitches into pitch types. \n",
        "\n",
        "pitches_ff = pitches[pitches.pitch_type == 'FF']\n",
        "pitches_sl = pitches[pitches.pitch_type == 'SL']\n",
        "pitches_cu = pitches[pitches.pitch_type == 'CU']\n",
        "\n",
        "# Break the pitches according to year and type. \n",
        "\n",
        "pitches_15_ff = pitches_15[pitches_15.pitch_type == 'FF']\n",
        "pitches_16_ff = pitches_16[pitches_16.pitch_type == 'FF']\n",
        "pitches_17_ff = pitches_17[pitches_17.pitch_type == 'FF']\n",
        "pitches_18_ff = pitches_18[pitches_18.pitch_type == 'FF']\n",
        "\n",
        "pitches_15_sl = pitches_15[pitches_15.pitch_type == 'SL']\n",
        "pitches_16_sl = pitches_16[pitches_16.pitch_type == 'SL']\n",
        "pitches_17_sl = pitches_17[pitches_17.pitch_type == 'SL']\n",
        "pitches_18_sl = pitches_18[pitches_18.pitch_type == 'SL']\n",
        "\n",
        "pitches_15_cu = pitches_15[pitches_15.pitch_type == 'CU']\n",
        "pitches_16_cu = pitches_16[pitches_16.pitch_type == 'CU']\n",
        "pitches_17_cu = pitches_17[pitches_17.pitch_type == 'CU']\n",
        "pitches_18_cu = pitches_18[pitches_18.pitch_type == 'CU']"
      ],
      "execution_count": 0,
      "outputs": []
    },
    {
      "cell_type": "markdown",
      "metadata": {
        "id": "OM1RWNKH_3Gw",
        "colab_type": "text"
      },
      "source": [
        "## The Fastball (2015 - 2018)\n",
        "\n",
        "The four seam fastball is the dominant pitch in MLB accounting for around 35% of all pitches thrown each year. The dominant attribute of a four seam fastball is its speed. In this part of the analysis I check to see if pitchers are throwing their four seamers faster, slower, or about the same speed each year. "
      ]
    },
    {
      "cell_type": "code",
      "metadata": {
        "id": "mwdSnnbwyrs8",
        "colab_type": "code",
        "outputId": "5d439483-d6ae-4e2c-d6dd-e29ee50aa004",
        "colab": {
          "base_uri": "https://localhost:8080/",
          "height": 485
        }
      },
      "source": [
        "# Create a histogram plot of each year's distribution of four seam fastball starting speed.\n",
        "\n",
        "pitches_ff['start_speed'].hist(by = pitches['year'], bins = 50, figsize = (10,6), sharex = True, sharey = True)\n",
        "plt.show()\n",
        "\n",
        "# The histograms appear to be normally distributed, but to see the skew and kurtosis I used stats.describe().\n",
        "\n",
        "print(stats.describe(pitches_15_ff['start_speed']))\n",
        "print(stats.describe(pitches_16_ff['start_speed']))\n",
        "print(stats.describe(pitches_17_ff['start_speed']))\n",
        "print(stats.describe(pitches_18_ff['start_speed']))\n",
        "\n",
        "# A couple interesting observations from these plots are that the 2015 and 2016 \n",
        "# means are pretty similar but there is a jump up in speed in 2017 that is \n",
        "# maintained in 2018. This is accompanied by a sharp increase in kurtosis,\n",
        "# meaning that many more pitches were in a tighter range around the mean. \n"
      ],
      "execution_count": 4,
      "outputs": [
        {
          "output_type": "display_data",
          "data": {
            "image/png": "[encoded data removed]",
            "text/plain": [
              "<Figure size 720x432 with 4 Axes>"
            ]
          },
          "metadata": {
            "tags": []
          }
        },
        {
          "output_type": "stream",
          "text": [
            "DescribeResult(nobs=249755, minmax=(76.7, 103.4), mean=92.48138255490377, variance=7.82116015200474, skewness=-0.2998463007108673, kurtosis=0.6437803045356212)\n",
            "DescribeResult(nobs=257649, minmax=(73.6, 105.0), mean=92.5750625851449, variance=7.579982785101436, skewness=-0.22923460188617828, kurtosis=0.8300410015991968)\n",
            "DescribeResult(nobs=253387, minmax=(61.0, 104.2), mean=93.22313141558169, variance=7.792148982765395, skewness=-0.5336550779719412, kurtosis=2.70113488007751)\n",
            "DescribeResult(nobs=254086, minmax=(56.5, 104.0), mean=93.16640350117679, variance=7.559287115915719, skewness=-0.6085304719008288, kurtosis=3.8819462704084557)\n"
          ],
          "name": "stdout"
        }
      ]
    },
    {
      "cell_type": "code",
      "metadata": {
        "id": "papyZXFq5nOM",
        "colab_type": "code",
        "colab": {
          "base_uri": "https://localhost:8080/",
          "height": 437
        },
        "outputId": "a858cb00-70ef-43ce-a206-dbc82336d912"
      },
      "source": [
        "# Visualizing the speeds another way we see that there's another interesting\n",
        "# change between the 2015/16 seasons and the 17/18 seasons. Although there\n",
        "# was a sharp increase in the number of pitches thrown in a tighter band of \n",
        "# speeds, there was also at the same time a wider range of speeds thrown. \n",
        "\n",
        "pitches_ff.boxplot('start_speed', by='year', figsize=(10, 6))"
      ],
      "execution_count": 5,
      "outputs": [
        {
          "output_type": "execute_result",
          "data": {
            "text/plain": [
              "<matplotlib.axes._subplots.AxesSubplot at 0x7f7f5a144da0>"
            ]
          },
          "metadata": {
            "tags": []
          },
          "execution_count": 5
        },
        {
          "output_type": "display_data",
          "data": {
            "image/png": "[encoded data removed]",
            "text/plain": [
              "<Figure size 720x432 with 1 Axes>"
            ]
          },
          "metadata": {
            "tags": []
          }
        }
      ]
    },
    {
      "cell_type": "code",
      "metadata": {
        "id": "wOwSKWmH6ret",
        "colab_type": "code",
        "colab": {
          "base_uri": "https://localhost:8080/",
          "height": 119
        },
        "outputId": "63879cc3-60f4-4418-92f1-875868e778ce"
      },
      "source": [
        "# Let's check to make sure that the data sets are normally distributed using\n",
        "# Shaprio-Wilk.\n",
        "\n",
        "print(stats.shapiro(pitches_15_ff['start_speed']))\n",
        "print(stats.shapiro(pitches_16_ff['start_speed']))\n",
        "print(stats.shapiro(pitches_17_ff['start_speed']))\n",
        "print(stats.shapiro(pitches_18_ff['start_speed']))\n",
        "\n",
        "# All of the W statistics are near 1, meaning there isn't much deviation from\n",
        "# a normal distribution."
      ],
      "execution_count": 6,
      "outputs": [
        {
          "output_type": "stream",
          "text": [
            "(0.9936863780021667, 0.0)\n",
            "(0.9944645762443542, 0.0)\n",
            "(0.9832635521888733, 0.0)\n",
            "(0.9776443839073181, 0.0)\n"
          ],
          "name": "stdout"
        },
        {
          "output_type": "stream",
          "text": [
            "/usr/local/lib/python3.6/dist-packages/scipy/stats/morestats.py:1660: UserWarning: p-value may not be accurate for N > 5000.\n",
            "  warnings.warn(\"p-value may not be accurate for N > 5000.\")\n"
          ],
          "name": "stderr"
        }
      ]
    },
    {
      "cell_type": "code",
      "metadata": {
        "id": "rMe5yN0e_mhz",
        "colab_type": "code",
        "colab": {
          "base_uri": "https://localhost:8080/",
          "height": 34
        },
        "outputId": "f9f6b5e6-d100-435c-ed53-ff0e6bb46c39"
      },
      "source": [
        "# Next, I'll investigate whether there is any statistically significant \n",
        "# difference between the data sets by utilizing a one-way ANOVA test.\n",
        "\n",
        "stats.f_oneway(pitches_15_ff['start_speed'], pitches_16_ff['start_speed'], pitches_17_ff['start_speed'], pitches_18_ff['start_speed'])\n",
        "\n",
        "# The result of the one-way ANOVA shows that there is indeed a significant differece\n",
        "# between at least one of the years."
      ],
      "execution_count": 7,
      "outputs": [
        {
          "output_type": "execute_result",
          "data": {
            "text/plain": [
              "F_onewayResult(statistic=4942.662938859677, pvalue=0.0)"
            ]
          },
          "metadata": {
            "tags": []
          },
          "execution_count": 7
        }
      ]
    },
    {
      "cell_type": "code",
      "metadata": {
        "id": "vZXY2jcv_czl",
        "colab_type": "code",
        "colab": {
          "base_uri": "https://localhost:8080/",
          "height": 200
        },
        "outputId": "94bd0e9d-3332-46dc-d714-b7d3841b180d"
      },
      "source": [
        "# To see if there are any years in particular that differ more than others I use Tukey's HSD test.\n",
        "\n",
        "tukey = pairwise_tukeyhsd(endog = pitches_ff['start_speed'],      # Data\n",
        "                          groups = pitches_ff['year'],   # Groups\n",
        "                          alpha=0.05)\n",
        "\n",
        "tukey.summary()\n",
        "\n",
        "# As we can see from the table, there was a significant difference between\n",
        "# the 2015/16 and 2017/18 seasons."
      ],
      "execution_count": 8,
      "outputs": [
        {
          "output_type": "execute_result",
          "data": {
            "text/html": [
              "<table class=\"simpletable\">\n",
              "<caption>Multiple Comparison of Means - Tukey HSD, FWER=0.05</caption>\n",
              "<tr>\n",
              "  <th>group1</th> <th>group2</th> <th>meandiff</th> <th>p-adj</th>  <th>lower</th>   <th>upper</th>  <th>reject</th>\n",
              "</tr>\n",
              "<tr>\n",
              "   <td>2015</td>   <td>2016</td>   <td>0.0937</td>  <td>0.001</td> <td>0.0737</td>  <td>0.1137</td>   <td>True</td> \n",
              "</tr>\n",
              "<tr>\n",
              "   <td>2015</td>   <td>2017</td>   <td>0.7417</td>  <td>0.001</td> <td>0.7217</td>  <td>0.7618</td>   <td>True</td> \n",
              "</tr>\n",
              "<tr>\n",
              "   <td>2015</td>   <td>2018</td>    <td>0.685</td>  <td>0.001</td>  <td>0.665</td>  <td>0.7051</td>   <td>True</td> \n",
              "</tr>\n",
              "<tr>\n",
              "   <td>2016</td>   <td>2017</td>   <td>0.6481</td>  <td>0.001</td> <td>0.6281</td>   <td>0.668</td>   <td>True</td> \n",
              "</tr>\n",
              "<tr>\n",
              "   <td>2016</td>   <td>2018</td>   <td>0.5913</td>  <td>0.001</td> <td>0.5714</td>  <td>0.6113</td>   <td>True</td> \n",
              "</tr>\n",
              "<tr>\n",
              "   <td>2017</td>   <td>2018</td>   <td>-0.0567</td> <td>0.001</td> <td>-0.0767</td> <td>-0.0367</td>  <td>True</td> \n",
              "</tr>\n",
              "</table>"
            ],
            "text/plain": [
              "<class 'statsmodels.iolib.table.SimpleTable'>"
            ]
          },
          "metadata": {
            "tags": []
          },
          "execution_count": 8
        }
      ]
    },
    {
      "cell_type": "markdown",
      "metadata": {
        "id": "OSZr2Z7t_75M",
        "colab_type": "text"
      },
      "source": [
        "## The Slider (2015 - 2018)\n",
        "\n",
        "The slider is one of the most devastating pitches in MLB, used mainly as a strike out pitch by hard throwing pitchers. One of the key attributes that differentiates good sliders from bad sliders is the spin rate. In this part of the analysis I analyze whether or not the spin rate on sliders is increasing, decreasing or staying about the same over time."
      ]
    },
    {
      "cell_type": "code",
      "metadata": {
        "id": "fvIJy_Qdb_Ri",
        "colab_type": "code",
        "colab": {
          "base_uri": "https://localhost:8080/",
          "height": 491
        },
        "outputId": "60ceeb0d-7d61-43a1-c76a-afebabbfe253"
      },
      "source": [
        "# Create a histogram of each year's spin rate on the sliders thrown and generate\n",
        "# descriptive statistics. \n",
        "\n",
        "pitches_sl['spin_rate'].hist(by = pitches['year'], bins = 50, figsize = (10,6), sharex = True, sharey = True)\n",
        "plt.show()\n",
        "\n",
        "print(stats.describe(pitches_15_sl['spin_rate']))\n",
        "print(stats.describe(pitches_16_sl['spin_rate']))\n",
        "print(stats.describe(pitches_17_sl['spin_rate']))\n",
        "print(stats.describe(pitches_18_sl['spin_rate']))\n",
        "\n",
        "# The histograms appear fairly normally distributed but also display some interesting\n",
        "# differences from year to year, especially 2018 displaying much higher kurtosis and a\n",
        "# potentially significant drop in mean sping rate. "
      ],
      "execution_count": 9,
      "outputs": [
        {
          "output_type": "display_data",
          "data": {
            "image/png": "[encoded data removed]",
            "text/plain": [
              "<Figure size 720x432 with 4 Axes>"
            ]
          },
          "metadata": {
            "tags": []
          }
        },
        {
          "output_type": "stream",
          "text": [
            "DescribeResult(nobs=101914, minmax=(1.214, 4602.326), mean=795.0120605019919, variance=162615.28375193765, skewness=0.7358935434960215, kurtosis=0.7800439252088589)\n",
            "DescribeResult(nobs=108225, minmax=(5.321000000000001, 3123.143), mean=821.6751453268655, variance=165025.7649009376, skewness=0.7128738808945254, kurtosis=0.6601080960803718)\n",
            "DescribeResult(nobs=117643, minmax=(2.595, 4397.165), mean=842.9548348393018, variance=195608.8641477498, skewness=0.665005103024164, kurtosis=0.3313625538041003)\n",
            "DescribeResult(nobs=122796, minmax=(2.325, 4989.782), mean=729.526100899052, variance=160988.79486991174, skewness=0.8954656438442926, kurtosis=0.7504539719349439)\n"
          ],
          "name": "stdout"
        }
      ]
    },
    {
      "cell_type": "code",
      "metadata": {
        "id": "yncS3ixKB0mP",
        "colab_type": "code",
        "colab": {
          "base_uri": "https://localhost:8080/",
          "height": 437
        },
        "outputId": "d48c37db-722c-4d0a-c829-03b421840eef"
      },
      "source": [
        "# Visualizing the spin rates another way we clearly see that the slider\n",
        "# displays a much larger high spin rate tail than a low spin rate tail, potentially\n",
        "# suggesting that there is potentially a minimum spin rate needed to develop an effective slider. \n",
        "\n",
        "pitches_sl.boxplot('spin_rate', by='year', figsize=(10, 6))"
      ],
      "execution_count": 10,
      "outputs": [
        {
          "output_type": "execute_result",
          "data": {
            "text/plain": [
              "<matplotlib.axes._subplots.AxesSubplot at 0x7f7f40b65b00>"
            ]
          },
          "metadata": {
            "tags": []
          },
          "execution_count": 10
        },
        {
          "output_type": "display_data",
          "data": {
            "image/png": "[encoded data removed]",
            "text/plain": [
              "<Figure size 720x432 with 1 Axes>"
            ]
          },
          "metadata": {
            "tags": []
          }
        }
      ]
    },
    {
      "cell_type": "code",
      "metadata": {
        "id": "-IsTpvL4Dj2w",
        "colab_type": "code",
        "colab": {
          "base_uri": "https://localhost:8080/",
          "height": 119
        },
        "outputId": "ed615320-1a80-4bba-ef3f-5a65b5fcf7ff"
      },
      "source": [
        "# Let's check to make sure that the data sets are normally distributed using\n",
        "# Shaprio-Wilk.\n",
        "\n",
        "print(stats.shapiro(pitches_15_sl['spin_rate']))\n",
        "print(stats.shapiro(pitches_16_sl['spin_rate']))\n",
        "print(stats.shapiro(pitches_17_sl['spin_rate']))\n",
        "print(stats.shapiro(pitches_18_sl['spin_rate']))\n",
        "\n",
        "# All of the W statistics are near 1, meaning there isn't much deviation from\n",
        "# a normal distribution."
      ],
      "execution_count": 11,
      "outputs": [
        {
          "output_type": "stream",
          "text": [
            "(0.9691096544265747, 0.0)\n",
            "(0.9708563089370728, 0.0)\n",
            "(0.9701095819473267, 0.0)\n",
            "(0.9493557810783386, 0.0)\n"
          ],
          "name": "stdout"
        },
        {
          "output_type": "stream",
          "text": [
            "/usr/local/lib/python3.6/dist-packages/scipy/stats/morestats.py:1660: UserWarning: p-value may not be accurate for N > 5000.\n",
            "  warnings.warn(\"p-value may not be accurate for N > 5000.\")\n"
          ],
          "name": "stderr"
        }
      ]
    },
    {
      "cell_type": "code",
      "metadata": {
        "id": "3OCqnzBrDpZh",
        "colab_type": "code",
        "colab": {
          "base_uri": "https://localhost:8080/",
          "height": 34
        },
        "outputId": "0544c38e-03e7-4033-922b-18fb93bab412"
      },
      "source": [
        "# Next, I'll investigate whether there is any statistically significant \n",
        "# difference between the data sets by utilizing a one-way ANOVA test.\n",
        "\n",
        "stats.f_oneway(pitches_15_sl['spin_rate'], pitches_16_sl['spin_rate'], pitches_17_sl['spin_rate'], pitches_18_sl['spin_rate'])\n",
        "\n",
        "# The result of the one-way ANOVA shows that there is indeed a significant differece\n",
        "# between at least one of the years."
      ],
      "execution_count": 12,
      "outputs": [
        {
          "output_type": "execute_result",
          "data": {
            "text/plain": [
              "F_onewayResult(statistic=1698.946525133443, pvalue=0.0)"
            ]
          },
          "metadata": {
            "tags": []
          },
          "execution_count": 12
        }
      ]
    },
    {
      "cell_type": "code",
      "metadata": {
        "id": "PYqsW_FzECqI",
        "colab_type": "code",
        "colab": {
          "base_uri": "https://localhost:8080/",
          "height": 183
        },
        "outputId": "f8522994-2d90-4bbc-ba51-a9efe7aabf55"
      },
      "source": [
        "# To see if there are any years in particular that differ more than others I use Tukey's HSD test.\n",
        "\n",
        "tukey = pairwise_tukeyhsd(endog = pitches_sl['spin_rate'],      # Data\n",
        "                          groups = pitches_sl['year'],   # Groups\n",
        "                          alpha=0.05)\n",
        "\n",
        "tukey.summary()\n",
        "\n",
        "# As we can see from the table, there was a significant drop in the mean spin rate\n",
        "# from the 2017 to 2018 season after increasing from 2015 to 2016 and 2016 to 2017 seasons."
      ],
      "execution_count": 13,
      "outputs": [
        {
          "output_type": "execute_result",
          "data": {
            "text/html": [
              "<table class=\"simpletable\">\n",
              "<caption>Multiple Comparison of Means - Tukey HSD, FWER=0.05</caption>\n",
              "<tr>\n",
              "  <th>group1</th> <th>group2</th> <th>meandiff</th>  <th>p-adj</th>   <th>lower</th>     <th>upper</th>   <th>reject</th>\n",
              "</tr>\n",
              "<tr>\n",
              "   <td>2015</td>   <td>2016</td>   <td>26.6631</td>  <td>0.001</td>  <td>22.0211</td>   <td>31.3051</td>   <td>True</td> \n",
              "</tr>\n",
              "<tr>\n",
              "   <td>2015</td>   <td>2017</td>   <td>47.9428</td>  <td>0.001</td>  <td>43.3918</td>   <td>52.4937</td>   <td>True</td> \n",
              "</tr>\n",
              "<tr>\n",
              "   <td>2015</td>   <td>2018</td>   <td>-65.486</td>  <td>0.001</td> <td>-69.9924</td>  <td>-60.9795</td>   <td>True</td> \n",
              "</tr>\n",
              "<tr>\n",
              "   <td>2016</td>   <td>2017</td>   <td>21.2797</td>  <td>0.001</td>  <td>16.8004</td>   <td>25.759</td>    <td>True</td> \n",
              "</tr>\n",
              "<tr>\n",
              "   <td>2016</td>   <td>2018</td>   <td>-92.149</td>  <td>0.001</td> <td>-96.5831</td>   <td>-87.715</td>   <td>True</td> \n",
              "</tr>\n",
              "<tr>\n",
              "   <td>2017</td>   <td>2018</td>  <td>-113.4287</td> <td>0.001</td> <td>-117.7674</td> <td>-109.0901</td>  <td>True</td> \n",
              "</tr>\n",
              "</table>"
            ],
            "text/plain": [
              "<class 'statsmodels.iolib.table.SimpleTable'>"
            ]
          },
          "metadata": {
            "tags": []
          },
          "execution_count": 13
        }
      ]
    },
    {
      "cell_type": "markdown",
      "metadata": {
        "id": "P64_slp8K0U1",
        "colab_type": "text"
      },
      "source": [
        "## The Curveball (2015 - 2018)\n",
        "\n",
        "The curveball has been around for a long time but it continues to evolve. It is defined by its dramatic break that can make batters knees buckle. In this analysis I investigate whether the break length of curveballs has increased, decreased or stayed about the same from 2015 - 2018."
      ]
    },
    {
      "cell_type": "code",
      "metadata": {
        "id": "ZbSVB1f6M5Wr",
        "colab_type": "code",
        "outputId": "94b11ab5-4db7-4721-94df-7267c4f688bf",
        "colab": {
          "base_uri": "https://localhost:8080/",
          "height": 479
        }
      },
      "source": [
        "# Create histograms of the break length each year and generate descriptive statistics.\n",
        "\n",
        "pitches_cu['break_length'].hist(by = pitches['year'], bins = 50, figsize = (10,6), sharex = True, sharey = True)\n",
        "plt.show()\n",
        "\n",
        "# We can see from the histograms that the distributions appear quite normal except potentially for 2016 which displays\n",
        "# much higher kurtosis than any other year. \n",
        "\n",
        "print(stats.describe(pitches_15_cu['break_length']))\n",
        "print(stats.describe(pitches_16_cu['break_length']))\n",
        "print(stats.describe(pitches_17_cu['break_length']))\n",
        "print(stats.describe(pitches_18_cu['break_length']))\n",
        "\n",
        "# From the statistics we can see that the mean break length appears to have stayed fairly consistent, although it did\n",
        "# drop somewhat sharply in 2017 before nearly rebounding in 2018."
      ],
      "execution_count": 14,
      "outputs": [
        {
          "output_type": "display_data",
          "data": {
            "image/png": "[encoded data removed]",
            "text/plain": [
              "<Figure size 720x432 with 4 Axes>"
            ]
          },
          "metadata": {
            "tags": []
          }
        },
        {
          "output_type": "stream",
          "text": [
            "DescribeResult(nobs=53081, minmax=(4.3, 26.8), mean=12.458591586443358, variance=4.129985009551668, skewness=-0.10732759109879945, kurtosis=-0.05181842813852988)\n",
            "DescribeResult(nobs=62391, minmax=(3.1, 55.9), mean=12.495311823820742, variance=4.396265085886642, skewness=0.08971170496378078, kurtosis=2.87986887635288)\n",
            "DescribeResult(nobs=58559, minmax=(4.5, 29.9), mean=12.066336515309345, variance=3.862794992530983, skewness=0.18882783116334476, kurtosis=0.47173223506690576)\n",
            "DescribeResult(nobs=60360, minmax=(5.1, 25.4), mean=12.344415175612987, variance=3.406311193951178, skewness=-0.010818613340096204, kurtosis=-0.08554983686061535)\n"
          ],
          "name": "stdout"
        }
      ]
    },
    {
      "cell_type": "code",
      "metadata": {
        "id": "fK5mpqBbEdoZ",
        "colab_type": "code",
        "colab": {
          "base_uri": "https://localhost:8080/",
          "height": 437
        },
        "outputId": "4fb746b0-df91-4539-de16-852dc0fde7ab"
      },
      "source": [
        "# Visualizing the break length another way we see again that the means are pretty consistent\n",
        "# and that there is a slight outlier skew towards greater break length. \n",
        "\n",
        "pitches_cu.boxplot('break_length', by='year', figsize=(10, 6))"
      ],
      "execution_count": 15,
      "outputs": [
        {
          "output_type": "execute_result",
          "data": {
            "text/plain": [
              "<matplotlib.axes._subplots.AxesSubplot at 0x7f7f40765588>"
            ]
          },
          "metadata": {
            "tags": []
          },
          "execution_count": 15
        },
        {
          "output_type": "display_data",
          "data": {
            "image/png": "[encoded data removed]",
            "text/plain": [
              "<Figure size 720x432 with 1 Axes>"
            ]
          },
          "metadata": {
            "tags": []
          }
        }
      ]
    },
    {
      "cell_type": "code",
      "metadata": {
        "id": "IC5j4pP6Epli",
        "colab_type": "code",
        "colab": {
          "base_uri": "https://localhost:8080/",
          "height": 119
        },
        "outputId": "877fe98d-3abd-4a13-a218-a3f3e1281eb2"
      },
      "source": [
        "# Let's check to make sure that the data sets are normally distributed using\n",
        "# Shaprio-Wilk.\n",
        "\n",
        "print(stats.shapiro(pitches_15_cu['break_length']))\n",
        "print(stats.shapiro(pitches_16_cu['break_length']))\n",
        "print(stats.shapiro(pitches_17_cu['break_length']))\n",
        "print(stats.shapiro(pitches_18_cu['break_length']))\n",
        "\n",
        "# Even though 2016 displays a fair amount of kurtosis all of the W statistics \n",
        "# are near 1, meaning there isn't much deviation from a normal distribution."
      ],
      "execution_count": 16,
      "outputs": [
        {
          "output_type": "stream",
          "text": [
            "(0.9973227977752686, 3.0824340241047576e-28)\n",
            "(0.992483377456665, 0.0)\n",
            "(0.9965757727622986, 9.226308222810282e-33)\n",
            "(0.9974913597106934, 9.222328779466647e-29)\n"
          ],
          "name": "stdout"
        },
        {
          "output_type": "stream",
          "text": [
            "/usr/local/lib/python3.6/dist-packages/scipy/stats/morestats.py:1660: UserWarning: p-value may not be accurate for N > 5000.\n",
            "  warnings.warn(\"p-value may not be accurate for N > 5000.\")\n"
          ],
          "name": "stderr"
        }
      ]
    },
    {
      "cell_type": "code",
      "metadata": {
        "id": "sl92vJLEE2Uy",
        "colab_type": "code",
        "colab": {
          "base_uri": "https://localhost:8080/",
          "height": 34
        },
        "outputId": "81b2fdd9-702f-4014-eacd-6ce879355b33"
      },
      "source": [
        "# Next, I'll investigate whether there is any statistically significant \n",
        "# difference between the data sets by utilizing a one-way ANOVA test.\n",
        "\n",
        "stats.f_oneway(pitches_15_cu['break_length'], pitches_16_cu['break_length'], pitches_17_cu['break_length'], pitches_18_cu['break_length'])\n",
        "\n",
        "# The result of the one-way ANOVA shows that there is indeed a significant difference\n",
        "# between at least one of the years."
      ],
      "execution_count": 17,
      "outputs": [
        {
          "output_type": "execute_result",
          "data": {
            "text/plain": [
              "F_onewayResult(statistic=560.4921986067841, pvalue=0.0)"
            ]
          },
          "metadata": {
            "tags": []
          },
          "execution_count": 17
        }
      ]
    },
    {
      "cell_type": "code",
      "metadata": {
        "id": "YNNyOIfKFDCk",
        "colab_type": "code",
        "colab": {
          "base_uri": "https://localhost:8080/",
          "height": 183
        },
        "outputId": "455281d7-77eb-43fd-f4f5-12016a5b5d13"
      },
      "source": [
        "# To see if there are any years in particular that differ more than others I use Tukey's HSD test.\n",
        "\n",
        "tukey = pairwise_tukeyhsd(endog = pitches_cu['break_length'],      # Data\n",
        "                          groups = pitches_cu['year'],   # Groups\n",
        "                          alpha=0.05)\n",
        "\n",
        "tukey.summary()\n",
        "\n",
        "# As we can see from the table, there was a significant decrease in break length from the 2016 to 2017 season\n",
        "# which then partially rebounded from the 2017 to 2018 season."
      ],
      "execution_count": 18,
      "outputs": [
        {
          "output_type": "execute_result",
          "data": {
            "text/html": [
              "<table class=\"simpletable\">\n",
              "<caption>Multiple Comparison of Means - Tukey HSD, FWER=0.05</caption>\n",
              "<tr>\n",
              "  <th>group1</th> <th>group2</th> <th>meandiff</th>  <th>p-adj</th>  <th>lower</th>   <th>upper</th>  <th>reject</th>\n",
              "</tr>\n",
              "<tr>\n",
              "   <td>2015</td>   <td>2016</td>   <td>0.0367</td>  <td>0.0095</td> <td>0.0066</td>  <td>0.0669</td>   <td>True</td> \n",
              "</tr>\n",
              "<tr>\n",
              "   <td>2015</td>   <td>2017</td>   <td>-0.3923</td>  <td>0.001</td> <td>-0.4228</td> <td>-0.3617</td>  <td>True</td> \n",
              "</tr>\n",
              "<tr>\n",
              "   <td>2015</td>   <td>2018</td>   <td>-0.1142</td>  <td>0.001</td> <td>-0.1445</td> <td>-0.0838</td>  <td>True</td> \n",
              "</tr>\n",
              "<tr>\n",
              "   <td>2016</td>   <td>2017</td>   <td>-0.429</td>   <td>0.001</td> <td>-0.4583</td> <td>-0.3996</td>  <td>True</td> \n",
              "</tr>\n",
              "<tr>\n",
              "   <td>2016</td>   <td>2018</td>   <td>-0.1509</td>  <td>0.001</td>  <td>-0.18</td>  <td>-0.1218</td>  <td>True</td> \n",
              "</tr>\n",
              "<tr>\n",
              "   <td>2017</td>   <td>2018</td>   <td>0.2781</td>   <td>0.001</td> <td>0.2485</td>  <td>0.3077</td>   <td>True</td> \n",
              "</tr>\n",
              "</table>"
            ],
            "text/plain": [
              "<class 'statsmodels.iolib.table.SimpleTable'>"
            ]
          },
          "metadata": {
            "tags": []
          },
          "execution_count": 18
        }
      ]
    },
    {
      "cell_type": "markdown",
      "metadata": {
        "id": "uQpsHGo54PnF",
        "colab_type": "text"
      },
      "source": [
        "# Conclusions: \n",
        "\n",
        "1. The average four seam fastball has increased by over 0.5 mph in the last 4 seasons. In order to investigate this significant increase I would like more information on: i. whether or not the ball has changed in any tangible way ii. whether or not there has been an increased use in harder throwing relief pitchers over the past 4 years. \n",
        "\n",
        "2. The average spin rate of the slider has suddenly dropped significantly after increasing the previous couple of years. In order to investigate this drop I would like more information on individual pitchers spin rates to find out if this drop is reflected among all pitchers or a subset. My thinking is that there might have been a discovery that pitchers could dial back the spin rate slightly and still be effective.\n",
        "\n",
        "3. Lastly, the average break length in curveballs has stayed fairly consistent, with one exception in the 2017 season when it dropped significantly. I would be interested in learning more about may have happend in the 2017 season. Did any pitchers with exceptionally hard breaking curveballs retire or get sent to the minors? Since there are significantly fewer curveballs thrown I imagine it might be possible for the this difference to be explained by the population changing slightly.\n",
        "\n",
        "In conclusion, this analysis barely scrapes the surface on each of these pitches. A more in-depth analysis of each pitch would likely uncover more specific changes and trends and connections between various variables."
      ]
    }
  ]
}