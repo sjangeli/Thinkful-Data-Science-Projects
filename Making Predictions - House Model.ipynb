{
 "cells": [
  {
   "cell_type": "markdown",
   "metadata": {},
   "source": [
    "Assignment\n",
    "In this exercise, you'll predict house prices using your model. To complete this assignment, submit a link to a Jupyter notebook containing your solutions to the following tasks:\n",
    "\n",
    "Load the housing prices data from Thinkful's database.\n",
    "Split your data into train and test sets.\n",
    "Estimate your model from the previous checkpoint in the train set. Assess the goodness of fit of your model.\n",
    "Predict the house prices in the test set, and evaluate the performance of your model using the metrics we mentioned in this checkpoint.\n",
    "Is the performance of your model satisfactory? Why?\n",
    "Try to improve your model in terms of predictive performance by adding or removing some variables."
   ]
  },
  {
   "cell_type": "code",
   "execution_count": 3,
   "metadata": {},
   "outputs": [],
   "source": [
    "import pandas as pd\n",
    "import numpy as np\n",
    "import matplotlib.pyplot as plt\n",
    "import seaborn as sns\n",
    "import statsmodels.api as sm\n",
    "from sklearn.linear_model import LinearRegression\n",
    "from sklearn.model_selection import train_test_split\n",
    "from sklearn.metrics import mean_absolute_error\n",
    "from statsmodels.tools.eval_measures import mse, rmse\n",
    "from sklearn import linear_model\n",
    "from sqlalchemy import create_engine\n",
    "import warnings\n",
    "\n",
    "warnings.filterwarnings('ignore')\n",
    "\n",
    "postgres_user = 'dsbc_student'\n",
    "postgres_pw = '7*.8G9QH21'\n",
    "postgres_host = '142.93.121.174'\n",
    "postgres_port = '5432'\n",
    "postgres_db = 'houseprices'\n",
    "table_name = 'houseprices'\n",
    "\n",
    "engine = create_engine('postgresql://{}:{}@{}:{}/{}'.format(\n",
    "    postgres_user, postgres_pw, postgres_host, postgres_port, postgres_db))\n",
    "\n",
    "houses_df = pd.read_sql_query('select * from houseprices',con=engine)\n",
    "\n",
    "engine.dispose()"
   ]
  },
  {
   "cell_type": "code",
   "execution_count": 4,
   "metadata": {},
   "outputs": [
    {
     "name": "stdout",
     "output_type": "stream",
     "text": [
      "The number of observations in training set is 1168\n",
      "The number of observations in test set is 292\n"
     ]
    }
   ],
   "source": [
    "Y = houses_df['saleprice']\n",
    "X = houses_df[['overallqual','grlivarea', 'garagecars', 'lotarea', 'yearbuilt', 'fullbath', 'wooddecksf']]\n",
    "\n",
    "X_train, X_test, y_train, y_test = train_test_split(X, Y, test_size = 0.2, random_state = 13)\n",
    "\n",
    "print(\"The number of observations in training set is {}\".format(X_train.shape[0]))\n",
    "print(\"The number of observations in test set is {}\".format(X_test.shape[0]))"
   ]
  },
  {
   "cell_type": "code",
   "execution_count": 6,
   "metadata": {},
   "outputs": [
    {
     "name": "stdout",
     "output_type": "stream",
     "text": [
      "                            OLS Regression Results                            \n",
      "==============================================================================\n",
      "Dep. Variable:              saleprice   R-squared:                       0.804\n",
      "Model:                            OLS   Adj. R-squared:                  0.803\n",
      "Method:                 Least Squares   F-statistic:                     681.5\n",
      "Date:                Sat, 25 Jan 2020   Prob (F-statistic):               0.00\n",
      "Time:                        11:14:12   Log-Likelihood:                -13896.\n",
      "No. Observations:                1168   AIC:                         2.781e+04\n",
      "Df Residuals:                    1160   BIC:                         2.785e+04\n",
      "Df Model:                           7                                         \n",
      "Covariance Type:            nonrobust                                         \n",
      "===============================================================================\n",
      "                  coef    std err          t      P>|t|      [0.025      0.975]\n",
      "-------------------------------------------------------------------------------\n",
      "const       -1.015e+06   9.29e+04    -10.928      0.000    -1.2e+06   -8.33e+05\n",
      "overallqual  2.225e+04   1164.677     19.106      0.000       2e+04    2.45e+04\n",
      "grlivarea      72.4813      3.254     22.277      0.000      66.098      78.865\n",
      "garagecars   1.119e+04   1886.636      5.930      0.000    7485.460    1.49e+04\n",
      "lotarea         0.8879      0.111      7.981      0.000       0.670       1.106\n",
      "yearbuilt     476.9300     48.795      9.774      0.000     381.193     572.667\n",
      "fullbath    -1.371e+04   2791.350     -4.910      0.000   -1.92e+04   -8228.392\n",
      "wooddecksf     38.4474      8.865      4.337      0.000      21.054      55.841\n",
      "==============================================================================\n",
      "Omnibus:                      449.746   Durbin-Watson:                   2.057\n",
      "Prob(Omnibus):                  0.000   Jarque-Bera (JB):             3902.729\n",
      "Skew:                           1.535   Prob(JB):                         0.00\n",
      "Kurtosis:                      11.412   Cond. No.                     1.29e+06\n",
      "==============================================================================\n",
      "\n",
      "Warnings:\n",
      "[1] Standard Errors assume that the covariance matrix of the errors is correctly specified.\n",
      "[2] The condition number is large, 1.29e+06. This might indicate that there are\n",
      "strong multicollinearity or other numerical problems.\n"
     ]
    }
   ],
   "source": [
    "X_train = sm.add_constant(X_train)\n",
    "\n",
    "# We fit an OLS model using statsmodels\n",
    "results = sm.OLS(y_train, X_train).fit()\n",
    "\n",
    "# We print the summary results.\n",
    "print(results.summary())"
   ]
  },
  {
   "cell_type": "code",
   "execution_count": 7,
   "metadata": {},
   "outputs": [
    {
     "data": {
      "image/png": "[encoded data removed]",
      "text/plain": [
       "<Figure size 432x288 with 1 Axes>"
      ]
     },
     "metadata": {
      "needs_background": "light"
     },
     "output_type": "display_data"
    },
    {
     "name": "stdout",
     "output_type": "stream",
     "text": [
      "Mean absolute error of the prediction is: 29243.570454162054\n",
      "Mean squared error of the prediction is: 2571394142.926069\n",
      "Root mean squared error of the prediction is: 50708.91581296201\n",
      "Mean absolute percentage error of the prediction is: 18.4107817119044\n"
     ]
    }
   ],
   "source": [
    "# We add constant to the model as it's a best practice\n",
    "# to do so every time!\n",
    "X_test = sm.add_constant(X_test)\n",
    "\n",
    "# We are making predictions here\n",
    "y_preds = results.predict(X_test)\n",
    "\n",
    "plt.scatter(y_test, y_preds)\n",
    "plt.plot(y_test, y_test, color=\"red\")\n",
    "plt.xlabel(\"true values\")\n",
    "plt.ylabel(\"predicted values\")\n",
    "plt.title(\"Charges: true and predicted values\")\n",
    "plt.show()\n",
    "\n",
    "print(\"Mean absolute error of the prediction is: {}\".format(mean_absolute_error(y_test, y_preds)))\n",
    "print(\"Mean squared error of the prediction is: {}\".format(mse(y_test, y_preds)))\n",
    "print(\"Root mean squared error of the prediction is: {}\".format(rmse(y_test, y_preds)))\n",
    "print(\"Mean absolute percentage error of the prediction is: {}\".format(np.mean(np.abs((y_test - y_preds) / y_test)) * 100))"
   ]
  },
  {
   "cell_type": "code",
   "execution_count": 14,
   "metadata": {},
   "outputs": [
    {
     "name": "stdout",
     "output_type": "stream",
     "text": [
      "The number of observations in training set is 1168\n",
      "The number of observations in test set is 292\n",
      "                            OLS Regression Results                            \n",
      "==============================================================================\n",
      "Dep. Variable:              saleprice   R-squared:                       0.830\n",
      "Model:                            OLS   Adj. R-squared:                  0.829\n",
      "Method:                 Least Squares   F-statistic:                     707.6\n",
      "Date:                Sat, 25 Jan 2020   Prob (F-statistic):               0.00\n",
      "Time:                        11:34:00   Log-Likelihood:                -13813.\n",
      "No. Observations:                1168   AIC:                         2.764e+04\n",
      "Df Residuals:                    1159   BIC:                         2.769e+04\n",
      "Df Model:                           8                                         \n",
      "Covariance Type:            nonrobust                                         \n",
      "===============================================================================\n",
      "                  coef    std err          t      P>|t|      [0.025      0.975]\n",
      "-------------------------------------------------------------------------------\n",
      "const        -8.26e+05   8.78e+04     -9.405      0.000   -9.98e+05   -6.54e+05\n",
      "overallqual  1.857e+04   1121.181     16.564      0.000    1.64e+04    2.08e+04\n",
      "totalsf        38.1378      2.884     13.226      0.000      32.480      43.795\n",
      "grlivarea      30.7312      4.378      7.019      0.000      22.141      39.322\n",
      "garagecars   8610.7917   1770.092      4.865      0.000    5137.848    1.21e+04\n",
      "lotarea         0.6353      0.105      6.023      0.000       0.428       0.842\n",
      "yearbuilt     376.8681     46.127      8.170      0.000     286.365     467.371\n",
      "fullbath    -1.142e+04   2608.759     -4.376      0.000   -1.65e+04   -6298.176\n",
      "wooddecksf     32.8704      8.278      3.971      0.000      16.629      49.112\n",
      "==============================================================================\n",
      "Omnibus:                      412.275   Durbin-Watson:                   2.045\n",
      "Prob(Omnibus):                  0.000   Jarque-Bera (JB):             3589.604\n",
      "Skew:                           1.378   Prob(JB):                         0.00\n",
      "Kurtosis:                      11.134   Cond. No.                     1.32e+06\n",
      "==============================================================================\n",
      "\n",
      "Warnings:\n",
      "[1] Standard Errors assume that the covariance matrix of the errors is correctly specified.\n",
      "[2] The condition number is large, 1.32e+06. This might indicate that there are\n",
      "strong multicollinearity or other numerical problems.\n"
     ]
    }
   ],
   "source": [
    "houses_df['totalsf'] = houses_df['totalbsmtsf'] + houses_df.firstflrsf + houses_df.secondflrsf\n",
    "\n",
    "Y = houses_df['saleprice']\n",
    "X = houses_df[['overallqual','totalsf', 'grlivarea', 'garagecars', 'lotarea', 'yearbuilt', 'fullbath', 'wooddecksf']]\n",
    "\n",
    "X_train, X_test, y_train, y_test = train_test_split(X, Y, test_size = 0.2, random_state = 13)\n",
    "\n",
    "print(\"The number of observations in training set is {}\".format(X_train.shape[0]))\n",
    "print(\"The number of observations in test set is {}\".format(X_test.shape[0]))\n",
    "\n",
    "X_train = sm.add_constant(X_train)\n",
    "\n",
    "# We fit an OLS model using statsmodels\n",
    "results = sm.OLS(y_train, X_train).fit()\n",
    "\n",
    "# We print the summary results.\n",
    "print(results.summary())"
   ]
  },
  {
   "cell_type": "code",
   "execution_count": 15,
   "metadata": {},
   "outputs": [
    {
     "data": {
      "image/png": "[encoded data removed]",
      "text/plain": [
       "<Figure size 432x288 with 1 Axes>"
      ]
     },
     "metadata": {
      "needs_background": "light"
     },
     "output_type": "display_data"
    },
    {
     "name": "stdout",
     "output_type": "stream",
     "text": [
      "Mean absolute error of the prediction is: 27310.85498823617\n",
      "Mean squared error of the prediction is: 3047922970.2404532\n",
      "Root mean squared error of the prediction is: 55207.99733952005\n",
      "Mean absolute percentage error of the prediction is: 17.34359128713333\n"
     ]
    }
   ],
   "source": [
    "# We add constant to the model as it's a best practice\n",
    "# to do so every time!\n",
    "X_test = sm.add_constant(X_test)\n",
    "\n",
    "# We are making predictions here\n",
    "y_preds = results.predict(X_test)\n",
    "\n",
    "plt.scatter(y_test, y_preds)\n",
    "plt.plot(y_test, y_test, color=\"red\")\n",
    "plt.xlabel(\"true values\")\n",
    "plt.ylabel(\"predicted values\")\n",
    "plt.title(\"Charges: true and predicted values\")\n",
    "plt.show()\n",
    "\n",
    "print(\"Mean absolute error of the prediction is: {}\".format(mean_absolute_error(y_test, y_preds)))\n",
    "print(\"Mean squared error of the prediction is: {}\".format(mse(y_test, y_preds)))\n",
    "print(\"Root mean squared error of the prediction is: {}\".format(rmse(y_test, y_preds)))\n",
    "print(\"Mean absolute percentage error of the prediction is: {}\".format(np.mean(np.abs((y_test - y_preds) / y_test)) * 100))"
   ]
  },
  {
   "cell_type": "code",
   "execution_count": null,
   "metadata": {},
   "outputs": [],
   "source": []
  }
 ],
 "metadata": {
  "kernelspec": {
   "display_name": "Python 3",
   "language": "python",
   "name": "python3"
  },
  "language_info": {
   "codemirror_mode": {
    "name": "ipython",
    "version": 3
   },
   "file_extension": ".py",
   "mimetype": "text/x-python",
   "name": "python",
   "nbconvert_exporter": "python",
   "pygments_lexer": "ipython3",
   "version": "3.7.4"
  }
 },
 "nbformat": 4,
 "nbformat_minor": 2
}
