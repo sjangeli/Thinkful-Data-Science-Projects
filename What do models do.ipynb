{
 "cells": [
  {
   "cell_type": "markdown",
   "metadata": {},
   "source": [
    "## 1. Try to model the result of a coin toss. In your model, include any features that you think important in explaining the result. Discuss with your mentor about the pros and cons of adding too many features into your model."
   ]
  },
  {
   "cell_type": "markdown",
   "metadata": {},
   "source": [
    "1. Physical features of the coin: weight, diameter, and thickness.\n",
    "\n",
    "2. The amount of force applied to the coin.\n",
    "\n",
    "3. Where on the coin the force is applied.\n",
    "\n",
    "4. The height at which the coin is tossed and the height at which it lands."
   ]
  },
  {
   "cell_type": "markdown",
   "metadata": {},
   "source": [
    "## 2. If you ever used Netflix, you should already have realized that it provides some recommendations for you to watch. In data science, this is an example of the so-called recommendations systems. Read this nontechnical blog post of Netflix about how they model their recommendations systems. Then, derive the features they use in their recommendations engines and discuss what else can be incorporated into this model."
   ]
  },
  {
   "cell_type": "markdown",
   "metadata": {},
   "source": [
    "Features used in the recommendation engine include:\n",
    "\n",
    "1. a person's interactions with Netflix's service (such as the viewing history and how that person rated other titles).\n",
    "2. other members with similar tastes and preferences on Netflix service.\n",
    "3. information about the titles, such as their genre, categories, actors, release year, etc.\n",
    "4. the time of day the person watch.\n",
    "5. the devices the person is watching Netflix on.\n",
    "6. how long the person watch.\n",
    "\n",
    "\n",
    "Additional features that might be incorporated would be:\n",
    "\n",
    "1. Geographic information\n",
    "2. Rating (PG, R, etc)\n",
    "3. Rottent Tomatoes/Critics/Audience Rating"
   ]
  },
  {
   "cell_type": "code",
   "execution_count": null,
   "metadata": {},
   "outputs": [],
   "source": []
  }
 ],
 "metadata": {
  "kernelspec": {
   "display_name": "Python 3",
   "language": "python",
   "name": "python3"
  },
  "language_info": {
   "codemirror_mode": {
    "name": "ipython",
    "version": 3
   },
   "file_extension": ".py",
   "mimetype": "text/x-python",
   "name": "python",
   "nbconvert_exporter": "python",
   "pygments_lexer": "ipython3",
   "version": "3.7.4"
  }
 },
 "nbformat": 4,
 "nbformat_minor": 2
}
