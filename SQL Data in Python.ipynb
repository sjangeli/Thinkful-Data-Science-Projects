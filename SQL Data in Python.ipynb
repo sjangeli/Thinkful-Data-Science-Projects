{
 "cells": [
  {
   "cell_type": "code",
   "execution_count": 1,
   "metadata": {},
   "outputs": [
    {
     "name": "stdout",
     "output_type": "stream",
     "text": [
      "Requirement already satisfied: sqlalchemy in /opt/anaconda3/lib/python3.7/site-packages (1.3.9)\n",
      "Collecting psycopg2\n",
      "  Using cached https://files.pythonhosted.org/packages/84/d7/6a93c99b5ba4d4d22daa3928b983cec66df4536ca50b22ce5dcac65e4e71/psycopg2-2.8.4.tar.gz\n",
      "\u001b[31m    ERROR: Command errored out with exit status 1:\n",
      "     command: /opt/anaconda3/bin/python -c 'import sys, setuptools, tokenize; sys.argv[0] = '\"'\"'/private/var/folders/1j/y_k20pkx2ss5bbry76pmfwt00000gn/T/pip-install-vhq1bk81/psycopg2/setup.py'\"'\"'; __file__='\"'\"'/private/var/folders/1j/y_k20pkx2ss5bbry76pmfwt00000gn/T/pip-install-vhq1bk81/psycopg2/setup.py'\"'\"';f=getattr(tokenize, '\"'\"'open'\"'\"', open)(__file__);code=f.read().replace('\"'\"'\\r\\n'\"'\"', '\"'\"'\\n'\"'\"');f.close();exec(compile(code, __file__, '\"'\"'exec'\"'\"'))' egg_info --egg-base pip-egg-info\n",
      "         cwd: /private/var/folders/1j/y_k20pkx2ss5bbry76pmfwt00000gn/T/pip-install-vhq1bk81/psycopg2/\n",
      "    Complete output (23 lines):\n",
      "    running egg_info\n",
      "    creating pip-egg-info/psycopg2.egg-info\n",
      "    writing pip-egg-info/psycopg2.egg-info/PKG-INFO\n",
      "    writing dependency_links to pip-egg-info/psycopg2.egg-info/dependency_links.txt\n",
      "    writing top-level names to pip-egg-info/psycopg2.egg-info/top_level.txt\n",
      "    writing manifest file 'pip-egg-info/psycopg2.egg-info/SOURCES.txt'\n",
      "    \n",
      "    Error: pg_config executable not found.\n",
      "    \n",
      "    pg_config is required to build psycopg2 from source.  Please add the directory\n",
      "    containing pg_config to the $PATH or specify the full executable path with the\n",
      "    option:\n",
      "    \n",
      "        python setup.py build_ext --pg-config /path/to/pg_config build ...\n",
      "    \n",
      "    or with the pg_config option in 'setup.cfg'.\n",
      "    \n",
      "    If you prefer to avoid building psycopg2 from source, please install the PyPI\n",
      "    'psycopg2-binary' package instead.\n",
      "    \n",
      "    For further information please check the 'doc/src/install.rst' file (also at\n",
      "    <http://initd.org/psycopg/docs/install.html>).\n",
      "    \n",
      "    ----------------------------------------\u001b[0m\n",
      "\u001b[31mERROR: Command errored out with exit status 1: python setup.py egg_info Check the logs for full command output.\u001b[0m\n",
      "Requirement already satisfied: psycopg2-binary in /opt/anaconda3/lib/python3.7/site-packages (2.8.4)\n"
     ]
    }
   ],
   "source": [
    "!pip install sqlalchemy\n",
    "!pip install psycopg2\n",
    "!pip install psycopg2-binary\n",
    "from sqlalchemy import create_engine\n",
    "\n",
    "postgres_user = 'dsbc_student'\n",
    "postgres_pw = '7*.8G9QH21'\n",
    "postgres_host = '142.93.121.174'\n",
    "postgres_port = '5432'\n",
    "postgres_db = 'dvdrentals'\n",
    "\n",
    "engine = create_engine('postgresql://{}:{}@{}:{}/{}'.format(\n",
    "    postgres_user, postgres_pw, postgres_host, postgres_port, postgres_db))"
   ]
  },
  {
   "cell_type": "markdown",
   "metadata": {},
   "source": [
    "### 1. How many movies are released for each rating?"
   ]
  },
  {
   "cell_type": "code",
   "execution_count": 2,
   "metadata": {},
   "outputs": [
    {
     "name": "stdout",
     "output_type": "stream",
     "text": [
      "('PG-13', 223)\n",
      "('NC-17', 210)\n",
      "('R', 195)\n",
      "('PG', 194)\n",
      "('G', 178)\n"
     ]
    }
   ],
   "source": [
    "sql = '''\n",
    "SELECT \n",
    "    rating, COUNT(*) \n",
    "FROM \n",
    "    film \n",
    "GROUP BY \n",
    "    rating \n",
    "ORDER BY \n",
    "    COUNT(*) DESC\n",
    "'''\n",
    "\n",
    "movies = engine.execute(sql)\n",
    "\n",
    "engine.dispose()\n",
    "\n",
    "for row in movies:\n",
    "  print(row)"
   ]
  },
  {
   "cell_type": "markdown",
   "metadata": {},
   "source": [
    "### 2. What is the average rental duration for each rating?"
   ]
  },
  {
   "cell_type": "code",
   "execution_count": 3,
   "metadata": {},
   "outputs": [
    {
     "name": "stdout",
     "output_type": "stream",
     "text": [
      "('NC-17', Decimal('5.14'))\n",
      "('PG', Decimal('5.08'))\n",
      "('PG-13', Decimal('5.05'))\n",
      "('G', Decimal('4.84'))\n",
      "('R', Decimal('4.77'))\n"
     ]
    }
   ],
   "source": [
    "sql = '''\n",
    "SELECT \n",
    "    rating, ROUND(AVG(rental_duration),2) \n",
    "FROM \n",
    "    film \n",
    "GROUP BY \n",
    "    rating \n",
    "ORDER BY \n",
    "    ROUND(AVG(rental_duration),2) DESC\n",
    "'''\n",
    "\n",
    "movies = engine.execute(sql)\n",
    "\n",
    "engine.dispose()\n",
    "\n",
    "for row in movies:\n",
    "  print(row)"
   ]
  },
  {
   "cell_type": "markdown",
   "metadata": {},
   "source": [
    "### 3. What is the mean movie length? Calculate this by defining a function."
   ]
  },
  {
   "cell_type": "code",
   "execution_count": 4,
   "metadata": {},
   "outputs": [
    {
     "name": "stdout",
     "output_type": "stream",
     "text": [
      "The mean of movie lengths is 115.272 minutes.\n"
     ]
    }
   ],
   "source": [
    "sql = '''\n",
    "SELECT \n",
    "    length \n",
    "FROM \n",
    "    film\n",
    "'''\n",
    "\n",
    "length = engine.execute(sql)\n",
    "engine.dispose()\n",
    "rows = length.fetchall()\n",
    "\n",
    "length = [x['length'] for x in rows]\n",
    "\n",
    "def mean(numbers):\n",
    "  total_sum = 0;  \n",
    "  for n in numbers:\n",
    "    total_sum += n \n",
    "  count = len(numbers)   \n",
    "  avg = total_sum / count  \n",
    "  return avg\n",
    "\n",
    "print('The mean of movie lengths is {} minutes.'.format(mean(length)))"
   ]
  },
  {
   "cell_type": "markdown",
   "metadata": {},
   "source": [
    "### 4. What is the median movie length? Calculate this by defining a function."
   ]
  },
  {
   "cell_type": "code",
   "execution_count": 5,
   "metadata": {},
   "outputs": [
    {
     "name": "stdout",
     "output_type": "stream",
     "text": [
      "The median of movie lengths is 114.0 minutes\n"
     ]
    }
   ],
   "source": [
    "import math\n",
    "\n",
    "def median(numbers):\n",
    "  numbers.sort()  \n",
    "  count = len(numbers) \n",
    "  isEven = count % 2 == 0\n",
    "  \n",
    "  if (isEven):\n",
    "    mid = math.floor( count / 2 )\n",
    "    a = numbers[mid - 1]\n",
    "    b = numbers[mid]\n",
    "    ans = (a + b) / 2\n",
    "  else:\n",
    "    ans = numbers[math.floor( count / 2 )]\n",
    " \n",
    "  return ans\n",
    "\n",
    "print('The median of movie lengths is {} minutes'.format(median(length)))"
   ]
  },
  {
   "cell_type": "markdown",
   "metadata": {},
   "source": [
    "### 5. Calculate the standard deviation of the movie lengths. Calculate this by defining a function."
   ]
  },
  {
   "cell_type": "code",
   "execution_count": 6,
   "metadata": {},
   "outputs": [
    {
     "name": "stdout",
     "output_type": "stream",
     "text": [
      "The standard deviation of movie lengths is 40.42633181855988\n"
     ]
    }
   ],
   "source": [
    "def standard_deviation(numbers):\n",
    "  X_bar = mean(numbers)\n",
    "  N = len(numbers)\n",
    "  total_sum = 0\n",
    "  for X in numbers:\n",
    "    diff = X - X_bar\n",
    "    squared = math.pow(diff, 2)\n",
    "    total_sum += squared\n",
    "  sigma = math.sqrt(total_sum / (N - 1))  \n",
    "  return sigma\n",
    "\n",
    "print('The standard deviation of movie lengths is {}'.format(standard_deviation(length)))"
   ]
  },
  {
   "cell_type": "code",
   "execution_count": null,
   "metadata": {},
   "outputs": [],
   "source": []
  }
 ],
 "metadata": {
  "kernelspec": {
   "display_name": "Python 3",
   "language": "python",
   "name": "python3"
  },
  "language_info": {
   "codemirror_mode": {
    "name": "ipython",
    "version": 3
   },
   "file_extension": ".py",
   "mimetype": "text/x-python",
   "name": "python",
   "nbconvert_exporter": "python",
   "pygments_lexer": "ipython3",
   "version": "3.7.4"
  }
 },
 "nbformat": 4,
 "nbformat_minor": 2
}
